{
 "cells": [
  {
   "cell_type": "markdown",
   "id": "3c55af32",
   "metadata": {},
   "source": [
    "# Parallel Pandas\n",
    "This notebook creates a set of example data then shows various methods for parallelizing operations over it.\n",
    "\n",
    "The first test involves converting a time string such as `'9/17/2021'` into a `datetime` object, then shifting it by 14 days.\n",
    "\n",
    "The second test involves squaring a float."
   ]
  },
  {
   "cell_type": "markdown",
   "id": "05a6955a",
   "metadata": {},
   "source": [
    "## Generate Example Data"
   ]
  },
  {
   "cell_type": "code",
   "execution_count": 1,
   "id": "b74bcfcf",
   "metadata": {},
   "outputs": [],
   "source": [
    "import pandas as pd\n",
    "import numpy as np"
   ]
  },
  {
   "cell_type": "code",
   "execution_count": 2,
   "id": "f3ce2865",
   "metadata": {},
   "outputs": [],
   "source": [
    "days = np.arange(1,29,1)\n",
    "months = np.arange(1,13,1)\n",
    "years = np.arange(1970,2023,1)"
   ]
  },
  {
   "cell_type": "code",
   "execution_count": 3,
   "id": "cb074586",
   "metadata": {},
   "outputs": [],
   "source": [
    "def gen_date():\n",
    "    return f\"{np.random.choice(months)}/{np.random.choice(days)}/{np.random.choice(years)}\""
   ]
  },
  {
   "cell_type": "code",
   "execution_count": 4,
   "id": "8d6b750f",
   "metadata": {},
   "outputs": [],
   "source": [
    "dates = []\n",
    "for i in range(1000):\n",
    "    dates.append(gen_date())"
   ]
  },
  {
   "cell_type": "code",
   "execution_count": 5,
   "id": "a709b5da",
   "metadata": {},
   "outputs": [],
   "source": [
    "df = pd.DataFrame(np.random.rand(1000,2), columns=['foo','bar'])"
   ]
  },
  {
   "cell_type": "code",
   "execution_count": 6,
   "id": "7267e982",
   "metadata": {},
   "outputs": [],
   "source": [
    "df['date'] = dates"
   ]
  },
  {
   "cell_type": "code",
   "execution_count": 7,
   "id": "48c171c1",
   "metadata": {},
   "outputs": [],
   "source": [
    "dfs = []\n",
    "for i in range(1000):\n",
    "    dfs.append(df)\n",
    "df = pd.concat(dfs).reset_index()\n",
    "del(df['index'])"
   ]
  },
  {
   "cell_type": "markdown",
   "id": "88ec87d1",
   "metadata": {},
   "source": [
    "# Example Parallelization"
   ]
  },
  {
   "cell_type": "code",
   "execution_count": 8,
   "id": "e76213a1",
   "metadata": {},
   "outputs": [],
   "source": [
    "from datetime import datetime, timedelta\n",
    "import multiprocess as mp\n",
    "import pandas as pd\n",
    "import swifter\n",
    " \n",
    "cores = mp.cpu_count()-2 #Number of CPU cores on your system\n",
    "partitions = cores #Define as many partitions as you want"
   ]
  },
  {
   "cell_type": "code",
   "execution_count": 9,
   "id": "9ea333fd",
   "metadata": {},
   "outputs": [
    {
     "data": {
      "text/plain": [
       "(1000000, 3)"
      ]
     },
     "execution_count": 9,
     "metadata": {},
     "output_type": "execute_result"
    }
   ],
   "source": [
    "df.shape"
   ]
  },
  {
   "cell_type": "code",
   "execution_count": 10,
   "id": "328f11a7",
   "metadata": {},
   "outputs": [],
   "source": [
    "def proc_date(date):\n",
    "    return datetime.strptime(date, '%m/%d/%Y') + timedelta(days=14)\n",
    "\n",
    "def proc_df(df):\n",
    "    df['date_shift'] = df['date'].apply(lambda x: proc_date(x))\n",
    "    return df\n",
    "\n",
    "def proc_df_swifter(df):\n",
    "    df['date_shift'] = df['date'].swifter.apply(lambda x: proc_date(x))\n",
    "    return df"
   ]
  },
  {
   "cell_type": "code",
   "execution_count": 11,
   "id": "54deb89c",
   "metadata": {},
   "outputs": [],
   "source": [
    "def parallelize(data, func):\n",
    "    data_split = np.array_split(data, partitions)\n",
    "    pool = mp.Pool(cores)\n",
    "    data = pd.concat(pool.map(func, data_split))\n",
    "    pool.close()\n",
    "    pool.join()\n",
    "    return data"
   ]
  },
  {
   "cell_type": "markdown",
   "id": "66d978f6",
   "metadata": {},
   "source": [
    "Pandas `apply`"
   ]
  },
  {
   "cell_type": "code",
   "execution_count": 12,
   "id": "ee032148",
   "metadata": {},
   "outputs": [
    {
     "name": "stdout",
     "output_type": "stream",
     "text": [
      "CPU times: user 7.52 s, sys: 70.7 ms, total: 7.6 s\n",
      "Wall time: 7.65 s\n"
     ]
    }
   ],
   "source": [
    "%time df = proc_df(df)"
   ]
  },
  {
   "cell_type": "markdown",
   "id": "18c6a1d0",
   "metadata": {},
   "source": [
    "Pandas `apply` with multiple cores"
   ]
  },
  {
   "cell_type": "code",
   "execution_count": 13,
   "id": "13b79538",
   "metadata": {},
   "outputs": [
    {
     "name": "stdout",
     "output_type": "stream",
     "text": [
      "CPU times: user 1.43 s, sys: 150 ms, total: 1.58 s\n",
      "Wall time: 2.22 s\n"
     ]
    }
   ],
   "source": [
    "%time df = parallelize(df, proc_df)"
   ]
  },
  {
   "cell_type": "markdown",
   "id": "fbaf1991",
   "metadata": {},
   "source": [
    "`swifter` for string processing"
   ]
  },
  {
   "cell_type": "code",
   "execution_count": 14,
   "id": "90e63d16",
   "metadata": {},
   "outputs": [
    {
     "data": {
      "application/vnd.jupyter.widget-view+json": {
       "model_id": "5b01617e138941d69526d70e1852a5e6",
       "version_major": 2,
       "version_minor": 0
      },
      "text/plain": [
       "Pandas Apply:   0%|          | 0/1000000 [00:00<?, ?it/s]"
      ]
     },
     "metadata": {},
     "output_type": "display_data"
    },
    {
     "name": "stdout",
     "output_type": "stream",
     "text": [
      "CPU times: user 9.89 s, sys: 232 ms, total: 10.1 s\n",
      "Wall time: 10.1 s\n"
     ]
    }
   ],
   "source": [
    "%time df = proc_df_swifter(df)"
   ]
  },
  {
   "cell_type": "markdown",
   "id": "6701f911",
   "metadata": {},
   "source": [
    "### Vectorizing operations"
   ]
  },
  {
   "cell_type": "markdown",
   "id": "3de45330",
   "metadata": {},
   "source": [
    "`iterrows` and a loop with only 100K rows, not the full 1M :("
   ]
  },
  {
   "cell_type": "code",
   "execution_count": 15,
   "id": "e59a0e42",
   "metadata": {},
   "outputs": [
    {
     "name": "stdout",
     "output_type": "stream",
     "text": [
      "CPU times: user 40.5 s, sys: 279 ms, total: 40.8 s\n",
      "Wall time: 41.1 s\n"
     ]
    }
   ],
   "source": [
    "def loop(df):\n",
    "    for kk, vv in df.iterrows():\n",
    "        vv['foo2'] = vv['foo']**2\n",
    "\n",
    "%time loop(df[:100000])"
   ]
  },
  {
   "cell_type": "markdown",
   "id": "e54cd7d2",
   "metadata": {},
   "source": [
    "Pandas `apply`"
   ]
  },
  {
   "cell_type": "code",
   "execution_count": 16,
   "id": "31ce74f6",
   "metadata": {},
   "outputs": [
    {
     "name": "stdout",
     "output_type": "stream",
     "text": [
      "CPU times: user 224 ms, sys: 17.8 ms, total: 241 ms\n",
      "Wall time: 241 ms\n"
     ]
    }
   ],
   "source": [
    "%time df['foo2'] = df.foo.apply(lambda x: x**2)"
   ]
  },
  {
   "cell_type": "markdown",
   "id": "687329cb",
   "metadata": {},
   "source": [
    "`Swifter` numerical operation"
   ]
  },
  {
   "cell_type": "code",
   "execution_count": 17,
   "id": "b0935320",
   "metadata": {},
   "outputs": [
    {
     "data": {
      "application/vnd.jupyter.widget-view+json": {
       "model_id": "1251fa54f20c46979b4c2e83e7f07a0a",
       "version_major": 2,
       "version_minor": 0
      },
      "text/plain": [
       "Pandas Apply:   0%|          | 0/1000000 [00:00<?, ?it/s]"
      ]
     },
     "metadata": {},
     "output_type": "display_data"
    },
    {
     "name": "stdout",
     "output_type": "stream",
     "text": [
      "CPU times: user 1.42 s, sys: 45.5 ms, total: 1.47 s\n",
      "Wall time: 1.46 s\n"
     ]
    }
   ],
   "source": [
    "%time df['foo2'] = df['foo'].swifter.apply(lambda x: x**2)"
   ]
  },
  {
   "cell_type": "markdown",
   "id": "ffdd5e3b",
   "metadata": {},
   "source": [
    "Pandas vectorized operation"
   ]
  },
  {
   "cell_type": "code",
   "execution_count": 18,
   "id": "1b3556ff",
   "metadata": {},
   "outputs": [
    {
     "name": "stdout",
     "output_type": "stream",
     "text": [
      "CPU times: user 6.2 ms, sys: 4.12 ms, total: 10.3 ms\n",
      "Wall time: 6.9 ms\n"
     ]
    }
   ],
   "source": [
    "%time df['foo2'] = df['foo']**2"
   ]
  }
 ],
 "metadata": {
  "kernelspec": {
   "display_name": "Python 3 (ipykernel)",
   "language": "python",
   "name": "python3"
  },
  "language_info": {
   "codemirror_mode": {
    "name": "ipython",
    "version": 3
   },
   "file_extension": ".py",
   "mimetype": "text/x-python",
   "name": "python",
   "nbconvert_exporter": "python",
   "pygments_lexer": "ipython3",
   "version": "3.9.7"
  }
 },
 "nbformat": 4,
 "nbformat_minor": 5
}
